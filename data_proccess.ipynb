{
 "cells": [
  {
   "cell_type": "code",
   "execution_count": null,
   "metadata": {},
   "outputs": [],
   "source": [
    "from sklearn.preprocessing import LabelEncoder, StandardScaler\n",
    "from sklearn.tree import DecisionTreeClassifier, DecisionTreeRegressor\n",
    "from sklearn.ensemble import RandomForestRegressor, RandomForestClassifier, AdaBoostRegressor\n",
    "from sklearn.svm import SVR\n",
    "from sklearn.model_selection import train_test_split\n",
    "from sklearn.metrics import accuracy_score, mean_absolute_error, mean_squared_error, r2_score\n",
    "\n",
    "import matplotlib as mlp\n",
    "import matplotlib.pyplot as plt\n",
    "import numpy as np\n",
    "import pandas as pd\n",
    "import seaborn as sns\n",
    "import sklearn; sns.set(rc={'figure.figsize':(12,10)})\n",
    "# import tensorflow as tf\n",
    "# import keras\n",
    "\n",
    "pd.set_option('display.max_columns', 500)"
   ]
  },
  {
   "cell_type": "markdown",
   "metadata": {},
   "source": [
    "# Data-loading"
   ]
  },
  {
   "cell_type": "code",
   "execution_count": null,
   "metadata": {},
   "outputs": [],
   "source": [
    "subscriptions_rds = pd.read_csv(\"subscriptions_mix.csv\")\n",
    "subscriptions_dtypes_modified = False"
   ]
  },
  {
   "cell_type": "code",
   "execution_count": null,
   "metadata": {},
   "outputs": [],
   "source": [
    "transactions_rds = pd.read_csv(\"transactions_mix.csv\")"
   ]
  },
  {
   "cell_type": "code",
   "execution_count": null,
   "metadata": {},
   "outputs": [],
   "source": [
    "subscriptions_rds"
   ]
  },
  {
   "cell_type": "markdown",
   "metadata": {},
   "source": [
    "# Subscription"
   ]
  },
  {
   "cell_type": "code",
   "execution_count": null,
   "metadata": {},
   "outputs": [],
   "source": [
    "if not subscriptions_dtypes_modified:\n",
    "\n",
    "    subscriptions_rds.dropna(how='all', inplace=True)\n",
    "\n",
    "    subscriptions_rds = subscriptions_rds.loc[(subscriptions_rds['revenue'].astype(str).str.isnumeric()) & (subscriptions_rds['service_price'].astype(str).str.isnumeric())]\n",
    "\n",
    "    subscriptions_rds['country'] = subscriptions_rds['country'].str.upper()\n",
    "    subscriptions_rds['source'] = subscriptions_rds['source'].str.upper()\n",
    "    subscriptions_rds['status'] = subscriptions_rds['status'].astype(int)\n",
    "    subscriptions_rds['revenue'] = subscriptions_rds['revenue'].astype(float)\n",
    "    subscriptions_rds['service_price'] = subscriptions_rds['service_price'].astype(float).astype(int)\n",
    "    subscriptions_rds['currency'] = subscriptions_rds['currency'].fillna('XOF').str.upper()\n",
    "    subscriptions_rds['attempt_charging'] = subscriptions_rds['attempt_charging'].astype(int)\n",
    "    subscriptions_rds['success_billing'] = subscriptions_rds['success_billing'].astype(int)\n",
    "\n",
    "\n",
    "    column_to_datetime = ['created_at', 'subs_date', 'renewal_date', 'freemium_end_date', 'unsubs_date']\n",
    "\n",
    "    for column in column_to_datetime:\n",
    "        subscriptions_rds[column] = pd.to_datetime(subscriptions_rds[column], errors='coerce')\n",
    "\n",
    "    subscriptions_dtypes_modified = True\n",
    "\n",
    "subscriptions_rds.columns"
   ]
  },
  {
   "cell_type": "code",
   "execution_count": null,
   "metadata": {},
   "outputs": [],
   "source": [
    "def ToIDRMultiplier(str):\n",
    "    if str == 'BATH': return 440\n",
    "    if str == 'RIAL' : return 3900\n",
    "    if str == 'XOF' : return 23\n",
    "    return 0.8\n",
    "\n",
    "def ToLocalHour(str):\n",
    "    if str == 'TH' or str == 'LA' : return 0\n",
    "    if str == 'SN' : return -7\n",
    "    return -3\n",
    "    "
   ]
  },
  {
   "cell_type": "markdown",
   "metadata": {},
   "source": [
    "# Data processing"
   ]
  },
  {
   "cell_type": "code",
   "execution_count": null,
   "metadata": {},
   "outputs": [],
   "source": [
    "subscriptions_mds = subscriptions_rds.drop(columns = \n",
    "    ['id',\n",
    "     'created_at',\n",
    "     'trxid', \n",
    "     'adnet',\n",
    "     'browser',\n",
    "     'handset',\n",
    "     'pixel',\n",
    "     'publisher',\n",
    "     'service',\n",
    "     'profile_status',\n",
    "     'unsubs_from',\n",
    "     'pixel',\n",
    "     'browser',\n",
    "     'status'])\n",
    "\n",
    "drop_row = ((subscriptions_mds['cycle'] == '1') |\n",
    "            (subscriptions_mds['subs_date'] > subscriptions_mds['unsubs_date']) |\n",
    "            (subscriptions_mds['attempt_charging'] < subscriptions_mds['success_billing']))\n",
    "\n",
    "subscriptions_mds.drop(drop_row[drop_row].index, inplace=True)\n",
    "\n",
    "subscriptions_mds['subs_date_month'] = subscriptions_mds['subs_date'].dt.month\n",
    "\n",
    "subscriptions_mds['subs_date_hour'] = subscriptions_mds['subs_date'].dt.hour\n",
    "subscriptions_mds['subs_date_hour_local'] = (subscriptions_mds['subs_date_hour'] + subscriptions_mds['country'].apply(ToLocalHour)).apply(lambda x : x+24 if x < 0 else x)\n",
    "\n",
    "subscriptions_mds['delta_date'] = subscriptions_mds[subscriptions_mds['unsubs_date'].notna()]['unsubs_date'] \\\n",
    "                                    - subscriptions_mds[subscriptions_mds['unsubs_date'].notna()]['subs_date']\n",
    "\n",
    "subscriptions_mds['revenue_converted'] = subscriptions_mds['currency'].apply(ToIDRMultiplier) * subscriptions_mds['revenue']\n",
    "subscriptions_mds['service_price_converted'] = subscriptions_mds['currency'].apply(ToIDRMultiplier) * subscriptions_mds['service_price']\n",
    "\n",
    "subscriptions_mds['success_billing_rate'] = (subscriptions_mds['success_billing'] / subscriptions_mds['attempt_charging']).fillna(0)\n",
    "\n",
    "subscriptions_mds['years_subscribed'] = (subscriptions_mds['unsubs_date'].fillna(pd.Timestamp(year=2023, month=10, day=1)) - subscriptions_mds['subs_date']) / pd.Timedelta(days=365)\n",
    "\n",
    "status_index = subscriptions_mds['unsubs_date'].notna().astype(str).replace('False', None).replace('True', '-1')\n",
    "status_index[status_index.isna()] = subscriptions_mds.loc[status_index.isna()]['renewal_date'].notna().astype(str).replace('False', 0).replace('True', '1')\n",
    "subscriptions_mds['status'] = status_index.astype(int)\n",
    "\n",
    "encoder = LabelEncoder()\n",
    "\n",
    "subscriptions_mds['source_encoded'] = encoder.fit_transform(subscriptions_mds['source'])\n",
    "subscriptions_mds['country_encoded'] = encoder.fit_transform(subscriptions_mds['country'])\n",
    "subscriptions_mds['operator_encoded'] = encoder.fit_transform(subscriptions_mds['operator'])\n",
    "subscriptions_mds['cycle_encoded'] = encoder.fit_transform(subscriptions_mds['cycle'])\n",
    "\n",
    "subscriptions_mds.columns"
   ]
  },
  {
   "cell_type": "code",
   "execution_count": null,
   "metadata": {},
   "outputs": [],
   "source": [
    "(subscriptions_mds[subscriptions_mds['delta_date'].notna()]['delta_date'].dt.total_seconds()/60/60/24).describe()"
   ]
  },
  {
   "cell_type": "code",
   "execution_count": null,
   "metadata": {},
   "outputs": [],
   "source": [
    "sns.heatmap(subscriptions_mds.corr())"
   ]
  },
  {
   "cell_type": "markdown",
   "metadata": {},
   "source": [
    "# Learning Model"
   ]
  },
  {
   "cell_type": "markdown",
   "metadata": {},
   "source": [
    "## Random Forest Regressor"
   ]
  },
  {
   "cell_type": "code",
   "execution_count": null,
   "metadata": {},
   "outputs": [],
   "source": [
    "rmean_sqr_err = []\n",
    "mean_abs_err = []\n",
    "for i in range(10):\n",
    "    columns_to_encode = ['country', 'source', 'cycle']\n",
    "\n",
    "    data_sample = subscriptions_mds[subscriptions_mds['unsubs_date'].notna()]\n",
    "\n",
    "    encoding_df = pd.DataFrame(index=data_sample.index)\n",
    "    for column in columns_to_encode:\n",
    "        encoding_df = pd.concat([encoding_df,\n",
    "                                pd.get_dummies(data_sample[column].astype(pd.CategoricalDtype(categories=subscriptions_mds[column].unique())))],\n",
    "                                axis=1)\n",
    "\n",
    "    X = data_sample[['revenue_converted', 'service_price_converted']]\n",
    "\n",
    "    X = pd.concat([encoding_df, X], axis=1)\n",
    "    X.columns = X.columns.astype(str)\n",
    "\n",
    "    y = data_sample['delta_date'].dt.total_seconds()/60/60/24\n",
    "\n",
    "    X_train, X_test, y_train, y_test = train_test_split(X, y, test_size=0.3)\n",
    "\n",
    "    rfr = RandomForestRegressor(max_depth=10)\n",
    "    rfr.fit(X_train, y_train)\n",
    "\n",
    "    y_pred = rfr.predict(X_test)\n",
    "\n",
    "    rmean_sqr_err.append(mean_squared_error(y_pred, y_test, squared=False))\n",
    "    mean_abs_err.append(mean_absolute_error(y_pred, y_test))\n",
    "print(f'RMSE: {sum(rmean_sqr_err)/10}')\n",
    "print(f'MAE: {sum(mean_abs_err)/10}')"
   ]
  },
  {
   "cell_type": "code",
   "execution_count": null,
   "metadata": {},
   "outputs": [],
   "source": [
    "feature_importances = rfr.feature_importances_\n",
    "feature_names = X.columns.tolist()\n",
    "feature_df = pd.DataFrame({'feature': feature_names, 'importance': feature_importances}).sort_values('importance')\n",
    "print(feature_df)\n",
    "\n",
    "# Feature importance horizantal bar plot\n",
    "feature_df.plot(x='feature', y='importance', kind='barh', color='blue', edgecolor='black')\n",
    "plt.title('Feature Importance')\n",
    "plt.ylabel('Feature')\n",
    "plt.show()"
   ]
  },
  {
   "cell_type": "markdown",
   "metadata": {},
   "source": [
    "## ADABoost"
   ]
  },
  {
   "cell_type": "code",
   "execution_count": null,
   "metadata": {},
   "outputs": [],
   "source": [
    "rmean_sqr_err = []\n",
    "mean_abs_err = []\n",
    "for i in range(10):\n",
    "    columns_to_encode = ['country', 'source', 'cycle']\n",
    "\n",
    "    data_sample = subscriptions_mds[subscriptions_mds['unsubs_date'].notna()]\n",
    "\n",
    "    encoding_df = pd.DataFrame(index=data_sample.index)\n",
    "    for column in columns_to_encode:\n",
    "        encoding_df = pd.concat([encoding_df,\n",
    "                                pd.get_dummies(data_sample[column].astype(pd.CategoricalDtype(categories=subscriptions_mds[column].unique())))],\n",
    "                                axis=1)\n",
    "\n",
    "    X = data_sample[['revenue_converted', 'service_price_converted']]\n",
    "\n",
    "    X = pd.concat([encoding_df, X], axis=1)\n",
    "    X.columns = X.columns.astype(str)\n",
    "\n",
    "    y = data_sample['delta_date'].dt.total_seconds()/60/60/24\n",
    "\n",
    "    X_train, X_test, y_train, y_test = train_test_split(X, y, test_size=0.3)\n",
    "\n",
    "    ada = AdaBoostRegressor(RandomForestRegressor(max_depth=10))\n",
    "    ada.fit(X_train, y_train)\n",
    "\n",
    "    y_pred = ada.predict(X_test)\n",
    "\n",
    "    rmean_sqr_err.append(mean_squared_error(y_pred, y_test, squared=False))\n",
    "    mean_abs_err.append(mean_absolute_error(y_pred, y_test))\n",
    "print(f'RMSE: {sum(rmean_sqr_err)/10}')\n",
    "print(f'MAE: {sum(mean_abs_err)/10}')"
   ]
  },
  {
   "cell_type": "code",
   "execution_count": null,
   "metadata": {},
   "outputs": [],
   "source": [
    "feature_importances = ada.feature_importances_\n",
    "feature_names = X.columns.tolist()\n",
    "feature_df = pd.DataFrame({'feature': feature_names, 'importance': feature_importances}).sort_values('importance')\n",
    "print(feature_df)\n",
    "\n",
    "# Feature importance horizantal bar plot\n",
    "feature_df.plot(x='feature', y='importance', kind='barh', color='blue', edgecolor='black')\n",
    "plt.title('Feature Importance')\n",
    "plt.ylabel('Feature')\n",
    "plt.show()"
   ]
  },
  {
   "cell_type": "markdown",
   "metadata": {},
   "source": [
    "## Deep Learning"
   ]
  },
  {
   "cell_type": "code",
   "execution_count": null,
   "metadata": {},
   "outputs": [],
   "source": [
    "columns_to_encode = ['country', 'source', 'cycle']\n",
    "\n",
    "data_sample = subscriptions_mds[subscriptions_mds['unsubs_date'].notna()]\n",
    "\n",
    "encoding_df = pd.DataFrame(index=data_sample.index)\n",
    "for column in columns_to_encode:\n",
    "    encoding_df = pd.concat([encoding_df,\n",
    "                             pd.get_dummies(data_sample[column].astype(pd.CategoricalDtype(categories=subscriptions_mds[column].unique())))],\n",
    "                            axis=1)\n",
    "\n",
    "X = data_sample[['revenue_converted', 'service_price_converted']]\n",
    "\n",
    "X = pd.concat([encoding_df, X], axis=1)\n",
    "\n",
    "y = data_sample['delta_date'].dt.total_seconds()/60/60/24\n",
    "# y = StandardScaler().fit_transform(y.to_numpy().reshape(-1, 1))\n",
    "# y = y.ravel()\n",
    "numeric_features = X.astype(int)\n",
    "\n",
    "normalizer = keras.layers.Normalization()\n",
    "normalizer.adapt(numeric_features)\n",
    "\n",
    "model = keras.Sequential([\n",
    "normalizer,\n",
    "keras.layers.Dense(100, activation='sigmoid'),\n",
    "keras.layers.Dense(100, activation='sigmoid'),\n",
    "keras.layers.Dense(50, activation='sigmoid'),\n",
    "keras.layers.Dense(50, activation='sigmoid'),\n",
    "keras.layers.Dense(50, activation='sigmoid'),\n",
    "keras.layers.Dense(10, activation='relu'),\n",
    "keras.layers.Dense(1)\n",
    "])\n",
    "\n",
    "model.compile(optimizer='rmsprop',\n",
    "            loss=keras.losses.MeanSquaredError(),\n",
    "            metrics=[keras.metrics.RootMeanSquaredError(), keras.metrics.MeanAbsoluteError()])\n",
    "\n",
    "numeric_dataset = tf.data.Dataset.from_tensor_slices((numeric_features, y))\n",
    "numeric_batches = numeric_dataset.shuffle(7000).batch(10)\n",
    "model.fit(numeric_batches, epochs=10)"
   ]
  },
  {
   "cell_type": "code",
   "execution_count": null,
   "metadata": {},
   "outputs": [],
   "source": [
    "numeric_dataset"
   ]
  },
  {
   "cell_type": "markdown",
   "metadata": {},
   "source": [
    "## Decision Tree Regressor"
   ]
  },
  {
   "cell_type": "code",
   "execution_count": null,
   "metadata": {},
   "outputs": [],
   "source": [
    "rmean_sqr_err = []\n",
    "mean_abs_err = []\n",
    "for i in range(10):\n",
    "    columns_to_encode = ['country', 'source', 'cycle']\n",
    "\n",
    "    data_sample = subscriptions_mds[subscriptions_mds['unsubs_date'].notna()]\n",
    "\n",
    "    encoding_df = pd.DataFrame(index=data_sample.index)\n",
    "    for column in columns_to_encode:\n",
    "        encoding_df = pd.concat([encoding_df,\n",
    "                                pd.get_dummies(data_sample[column].astype(pd.CategoricalDtype(categories=subscriptions_mds[column].unique())))],\n",
    "                                axis=1)\n",
    "\n",
    "    X = data_sample[['revenue_converted', 'service_price_converted']]\n",
    "\n",
    "    X = pd.concat([encoding_df, X], axis=1)\n",
    "    X.columns = X.columns.astype(str)\n",
    "\n",
    "    y = data_sample['delta_date'].dt.total_seconds()/60/60/24\n",
    "\n",
    "    X_train, X_test, y_train, y_test = train_test_split(X, y, test_size=0.3)\n",
    "\n",
    "    dtr = DecisionTreeRegressor(max_depth=15)\n",
    "    dtr.fit(X_train, y_train)\n",
    "\n",
    "    y_pred = dtr.predict(X_test)\n",
    "\n",
    "    rmean_sqr_err.append(mean_squared_error(y_pred, y_test, squared=False))\n",
    "    mean_abs_err.append(mean_absolute_error(y_pred, y_test))\n",
    "print(f'RMSE: {sum(rmean_sqr_err)/10}')\n",
    "print(f'MAE: {sum(mean_abs_err)/10}')"
   ]
  },
  {
   "cell_type": "code",
   "execution_count": null,
   "metadata": {},
   "outputs": [],
   "source": [
    "feature_importances = dtr.feature_importances_\n",
    "feature_names = X.columns.tolist()\n",
    "feature_df = pd.DataFrame({'feature': feature_names, 'importance': feature_importances}).sort_values('importance')\n",
    "print(feature_df)\n",
    "\n",
    "# Feature importance horizantal bar plot\n",
    "feature_df.plot(x='feature', y='importance', kind='barh', color='blue', edgecolor='black')\n",
    "plt.title('Feature Importance')\n",
    "plt.ylabel('Feature')\n",
    "plt.show()"
   ]
  },
  {
   "cell_type": "markdown",
   "metadata": {},
   "source": [
    "## SVR"
   ]
  },
  {
   "cell_type": "code",
   "execution_count": null,
   "metadata": {},
   "outputs": [],
   "source": [
    "rmean_sqr_err = []\n",
    "mean_abs_err = []\n",
    "for i in range(10):\n",
    "    columns_to_encode = ['country', 'source', 'cycle']\n",
    "\n",
    "    data_sample = subscriptions_mds[subscriptions_mds['unsubs_date'].notna()]\n",
    "\n",
    "    encoding_df = pd.DataFrame(index=data_sample.index)\n",
    "    for column in columns_to_encode:\n",
    "        encoding_df = pd.concat([encoding_df,\n",
    "                                pd.get_dummies(data_sample[column].astype(pd.CategoricalDtype(categories=subscriptions_mds[column].unique())))],\n",
    "                                axis=1)\n",
    "\n",
    "    X = data_sample[['revenue_converted', 'service_price_converted']]\n",
    "\n",
    "    X = pd.concat([encoding_df, X], axis=1)\n",
    "    X.columns = X.columns.astype(str)\n",
    "\n",
    "    y = data_sample['delta_date'].dt.total_seconds()/60/60/24\n",
    "\n",
    "    X_train, X_test, y_train, y_test = train_test_split(X, y, test_size=0.3)\n",
    "\n",
    "    svr = SVR()\n",
    "    svr.fit(X_train, y_train)\n",
    "\n",
    "    y_pred = svr.predict(X_test)\n",
    "\n",
    "    rmean_sqr_err.append(mean_squared_error(y_pred, y_test, squared=False))\n",
    "    mean_abs_err.append(mean_absolute_error(y_pred, y_test))\n",
    "print(f'RMSE: {sum(rmean_sqr_err)/10}')\n",
    "print(f'MAE: {sum(mean_abs_err)/10}')"
   ]
  },
  {
   "cell_type": "code",
   "execution_count": null,
   "metadata": {},
   "outputs": [],
   "source": [
    "feature_importances = dtr.feature_importances_\n",
    "feature_names = X.columns.tolist()\n",
    "feature_df = pd.DataFrame({'feature': feature_names, 'importance': feature_importances}).sort_values('importance')\n",
    "print(feature_df)\n",
    "\n",
    "# Feature importance horizantal bar plot\n",
    "feature_df.plot(x='feature', y='importance', kind='barh', color='blue', edgecolor='black')\n",
    "plt.title('Feature Importance')\n",
    "plt.ylabel('Feature')\n",
    "plt.show()"
   ]
  },
  {
   "cell_type": "markdown",
   "metadata": {},
   "source": [
    "# Visualization"
   ]
  },
  {
   "cell_type": "code",
   "execution_count": null,
   "metadata": {},
   "outputs": [],
   "source": [
    "year = 2020\n",
    "month = 5\n",
    "subscriptions_mds[(subscriptions_mds['subs_date'] >= pd.Timestamp(f'{year}-{month+1}')) &\n",
    "                        (subscriptions_mds['subs_date'] < pd.Timestamp((f'{year + (1 if month + 1 == 12 else 0)}-{(month+1)%12 + 1}'))) & \n",
    "                        ((subscriptions_mds['unsubs_date'].isnull()) | (subscriptions_mds['unsubs_date'] >= pd.Timestamp(f'{year + (1 if month + 1 == 12 else 0)}-{(month+1)%12 + 1}')))]"
   ]
  },
  {
   "cell_type": "code",
   "execution_count": null,
   "metadata": {},
   "outputs": [],
   "source": [
    "active_user_count_ds = []\n",
    "for year in range(2020, 2024):\n",
    "    for month in range(12):\n",
    "        user_count = subscriptions_mds[(subscriptions_mds['subs_date'] >= pd.Timestamp(year=year, month=month+1, day=1)) &\n",
    "                        (subscriptions_mds['subs_date'] < pd.Timestamp(year=year+(1 if month + 1 == 12 else 0), month=(month+1)%12 + 1, day=1)) & \n",
    "                        ((subscriptions_mds['unsubs_date'].isnull()) | (subscriptions_mds['unsubs_date'] >= pd.Timestamp(year=year + (1 if month + 1 == 12 else 0), month=(month+1)%12 + 1, day=1)))]['msisdn'].unique().size\n",
    "        active_user_count_ds.append([year, month+1, user_count])\n",
    "\n",
    "active_user_count_ds = active_user_count_ds[2:45]\n",
    "        \n",
    "active_user_count_ds = pd.DataFrame(data=active_user_count_ds, columns=['year', 'month', 'active_user_count'])\n",
    "active_user_count_ds['time'] = active_user_count_ds['year'].astype(str) + '-' + active_user_count_ds['month'].astype(str)"
   ]
  },
  {
   "cell_type": "code",
   "execution_count": null,
   "metadata": {},
   "outputs": [],
   "source": [
    "active_user_count_ds_h = []\n",
    "for year in range(2020, 2024):\n",
    "    for month in range(12):\n",
    "        for hour in range(24):\n",
    "            user_count = subscriptions_mds[(subscriptions_mds['subs_date'] >= pd.Timestamp(year=year, month=month+1, day=1)) &\n",
    "                            (subscriptions_mds['subs_date'] < pd.Timestamp(year=year+(1 if month + 1 == 12 else 0), month=(month+1)%12 + 1, day=1)) & \n",
    "                            ((subscriptions_mds['unsubs_date'].isnull()) | (subscriptions_mds['unsubs_date'] >= pd.Timestamp(year=year + (1 if month + 1 == 12 else 0), month=(month+1)%12 + 1, day=1))) &\n",
    "                            (subscriptions_mds['subs_date'].dt.hour == hour)]['msisdn'].unique().size\n",
    "            active_user_count_ds_h.append([year, month+1, hour, user_count])\n",
    "        \n",
    "active_user_count_ds_h = pd.DataFrame(data=active_user_count_ds_h, columns=['year', 'month', 'month', 'active_user_count'])"
   ]
  },
  {
   "cell_type": "code",
   "execution_count": null,
   "metadata": {},
   "outputs": [],
   "source": [
    "year=2021\n",
    "month=10\n",
    "subscriptions_mds[(subscriptions_mds['subs_date'] >= pd.Timestamp(year=year, month=month+1, day=1)) &\n",
    "                        (subscriptions_mds['subs_date'] < pd.Timestamp(year=year+(1 if month + 1 == 12 else 0), month=(month+1)%12 + 1, day=1)) & \n",
    "                        ((subscriptions_mds['unsubs_date'].isnull()) | (subscriptions_mds['unsubs_date'] >= pd.Timestamp(year=year + (1 if month + 1 == 12 else 0), month=(month+1)%12 + 1, day=1)))]"
   ]
  },
  {
   "cell_type": "code",
   "execution_count": null,
   "metadata": {},
   "outputs": [],
   "source": [
    "sns.barplot(x = 'active_user_count', y = 'time', data=active_user_count_ds, orient='h', estimator=\"sum\", errorbar=None)"
   ]
  },
  {
   "cell_type": "code",
   "execution_count": null,
   "metadata": {},
   "outputs": [],
   "source": [
    "subscriptions_mds['subs_year'] = subscriptions_mds['subs_date'].dt.year\n",
    "sns.barplot(x='subs_year',y='revenue',data=subscriptions_mds[['subs_year', 'revenue']].groupby('subs_year').mean().reset_index())\n",
    "plt.show()"
   ]
  },
  {
   "cell_type": "code",
   "execution_count": null,
   "metadata": {},
   "outputs": [],
   "source": [
    "subscriptions_mds['subs_month'] = subscriptions_mds['subs_date'].dt.month\n",
    "sns.barplot(x='subs_month',y='revenue',data=subscriptions_mds[['subs_month', 'revenue']].groupby('subs_month').mean().reset_index())\n",
    "plt.show()"
   ]
  },
  {
   "cell_type": "code",
   "execution_count": null,
   "metadata": {},
   "outputs": [],
   "source": [
    "subscriptions_mds"
   ]
  },
  {
   "cell_type": "code",
   "execution_count": null,
   "metadata": {},
   "outputs": [],
   "source": [
    "subscriptions_mds['subs_date_year'] = subscriptions_mds['subs_date'].dt.year\n",
    "subscriptions_mds['subs_date_month'] = subscriptions_mds['subs_date'].dt.month\n",
    "subscriptions_mds['subs_date_day'] = subscriptions_mds['subs_date'].dt.day"
   ]
  },
  {
   "cell_type": "code",
   "execution_count": null,
   "metadata": {},
   "outputs": [],
   "source": [
    "sns.boxplot(x='subs_date_month',y='success_billing',data=subscriptions_mds[['subs_date_month', 'success_billing']])\n",
    "plt.title('Succesful billing per month')\n",
    "plt.xlabel('Month')\n",
    "plt.ylabel('Succesful Billing')\n",
    "plt.show()"
   ]
  },
  {
   "cell_type": "code",
   "execution_count": null,
   "metadata": {},
   "outputs": [],
   "source": [
    "# sns.countplot(x='years_subscribed',data=subscriptions_mds.drop(subscriptions_mds[subscriptions_mds['years_subscribed'] == -1].index))\n",
    "# plt.title('Duration of subscription')\n",
    "# plt.xlabel('Years subscribed')\n",
    "\n",
    "# plt.show()"
   ]
  },
  {
   "cell_type": "code",
   "execution_count": null,
   "metadata": {},
   "outputs": [],
   "source": [
    "\n",
    "sns.barplot(x='country',y='revenue',data=subscriptions_mds)\n",
    "\n",
    "plt.title('Revenue generated from each countries')\n",
    "\n",
    "plt.show()"
   ]
  },
  {
   "cell_type": "markdown",
   "metadata": {},
   "source": [
    "# Transaction"
   ]
  },
  {
   "cell_type": "code",
   "execution_count": null,
   "metadata": {},
   "outputs": [],
   "source": [
    "transactions_rds.columns"
   ]
  },
  {
   "cell_type": "code",
   "execution_count": null,
   "metadata": {},
   "outputs": [],
   "source": [
    "transactions_rds[transactions_rds['sms_content'].notnull()][['sms_content']]"
   ]
  },
  {
   "cell_type": "code",
   "execution_count": null,
   "metadata": {},
   "outputs": [],
   "source": [
    "\n",
    "transactions_rds[transactions_rds['telco_api_url'].notnull()][['telco_api_url']]"
   ]
  },
  {
   "cell_type": "code",
   "execution_count": null,
   "metadata": {},
   "outputs": [],
   "source": [
    "transactions_mds = transactions_rds.drop(columns = ['currency', 'browser', 'handset','sms_content'])"
   ]
  },
  {
   "cell_type": "code",
   "execution_count": null,
   "metadata": {},
   "outputs": [],
   "source": [
    "transactions_mds['event_date'] = pd.to_datetime(transactions_mds ['event_date'], errors='coerce')\n",
    "transactions_mds['charge_date'] = pd.to_datetime(transactions_mds['charge_date'], errors='coerce')\n",
    "transactions_mds['created_at'] = pd.to_datetime(transactions_mds['created_at'], errors='coerce')\n",
    "transactions_mds['id'] = transactions_mds['id'].astype(int)\n",
    "transactions_mds['status_sms'] = transactions_mds['status_sms'] == 1\n",
    "\n",
    "transactions_mds['revenue'] = pd.to_numeric(transactions_mds['revenue'], errors='coerce', downcast='integer')\n",
    "transactions_mds.dropna(subset=['revenue'], inplace=True)\n",
    "transactions_mds = transactions_mds.astype({'revenue' : 'int32'})"
   ]
  },
  {
   "cell_type": "code",
   "execution_count": null,
   "metadata": {},
   "outputs": [],
   "source": [
    "transactions_mds.dtypes"
   ]
  },
  {
   "cell_type": "code",
   "execution_count": null,
   "metadata": {},
   "outputs": [],
   "source": [
    "transactions_rds.info()\n",
    "transactions_rds[transactions_rds['sms_content'].notnull()]"
   ]
  },
  {
   "cell_type": "code",
   "execution_count": null,
   "metadata": {},
   "outputs": [],
   "source": [
    "print(transactions_rds.columns)"
   ]
  },
  {
   "cell_type": "code",
   "execution_count": null,
   "metadata": {},
   "outputs": [],
   "source": [
    "print(transactions_mds.columns)\n"
   ]
  },
  {
   "cell_type": "code",
   "execution_count": null,
   "metadata": {},
   "outputs": [],
   "source": [
    "transactions_mds['country'].unique()"
   ]
  },
  {
   "cell_type": "code",
   "execution_count": null,
   "metadata": {},
   "outputs": [],
   "source": [
    "transactions_mds['charge_month'] = transactions_mds['charge_date'].dt.month\n",
    "sns.lineplot(x='charge_month',y='revenue',data=transactions_mds[['charge_month', 'revenue']].groupby('charge_month').mean().reset_index())\n",
    "plt.show()"
   ]
  },
  {
   "cell_type": "code",
   "execution_count": null,
   "metadata": {},
   "outputs": [],
   "source": [
    "sns.countplot(x='country',data=transactions_mds)\n",
    "plt.title('Numbers of user for each country')\n",
    "plt.show()\n"
   ]
  },
  {
   "cell_type": "code",
   "execution_count": null,
   "metadata": {},
   "outputs": [],
   "source": [
    "sns.countplot(x='operator',data=transactions_mds)\n",
    "plt.title('Numbers of user for each operator')\n",
    "plt.show()"
   ]
  },
  {
   "cell_type": "code",
   "execution_count": null,
   "metadata": {},
   "outputs": [],
   "source": []
  },
  {
   "cell_type": "code",
   "execution_count": null,
   "metadata": {},
   "outputs": [],
   "source": [
    "sns.barplot(x='country',y='revenue',data=transactions_mds[['country', 'revenue']].groupby('country').mean().reset_index())\n",
    "plt.show()"
   ]
  },
  {
   "cell_type": "code",
   "execution_count": null,
   "metadata": {},
   "outputs": [],
   "source": [
    "\n",
    "transactions_mds.boxplot(by ='country', column =['revenue'], grid = False) "
   ]
  },
  {
   "cell_type": "code",
   "execution_count": null,
   "metadata": {},
   "outputs": [],
   "source": [
    "sns.barplot(x='operator',y='revenue',data=transactions_mds)\n",
    "plt.show()"
   ]
  }
 ],
 "metadata": {
  "kernelspec": {
   "display_name": "base",
   "language": "python",
   "name": "python3"
  },
  "language_info": {
   "codemirror_mode": {
    "name": "ipython",
    "version": 3
   },
   "file_extension": ".py",
   "mimetype": "text/x-python",
   "name": "python",
   "nbconvert_exporter": "python",
   "pygments_lexer": "ipython3",
   "version": "3.9.18"
  }
 },
 "nbformat": 4,
 "nbformat_minor": 2
}
