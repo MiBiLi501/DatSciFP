{
 "cells": [
  {
   "cell_type": "code",
   "execution_count": null,
   "metadata": {},
   "outputs": [],
   "source": [
    "from imblearn.over_sampling import SMOTE \n",
    "from sklearn.preprocessing import LabelEncoder\n",
    "from sklearn.tree import DecisionTreeClassifier, DecisionTreeRegressor\n",
    "from sklearn.ensemble import RandomForestRegressor, RandomForestClassifier\n",
    "from sklearn.feature_extraction import DictVectorizer\n",
    "from sklearn.preprocessing import OneHotEncoder\n",
    "from sklearn.preprocessing import StandardScaler\n",
    "from sklearn.model_selection import train_test_split\n",
    "from sklearn.metrics import accuracy_score, mean_absolute_error, mean_squared_error\n",
    "\n",
    "import matplotlib as mlp\n",
    "import matplotlib.pyplot as plt\n",
    "import numpy as np\n",
    "import pandas as pd\n",
    "import seaborn as sns\n",
    "import sklearn; sns.set(rc={'figure.figsize':(12,10)})\n",
    "\n",
    "pd.set_option('display.max_columns', 500)"
   ]
  },
  {
   "cell_type": "markdown",
   "metadata": {},
   "source": [
    "# Data-loading"
   ]
  },
  {
   "cell_type": "code",
   "execution_count": null,
   "metadata": {},
   "outputs": [],
   "source": [
    "subscriptions_rds = pd.read_csv(\"subscriptions_mix.csv\")\n",
    "subscriptions_dtypes_modified = False"
   ]
  },
  {
   "cell_type": "code",
   "execution_count": null,
   "metadata": {},
   "outputs": [],
   "source": [
    "transactions_rds = pd.read_csv(\"transactions_mix.csv\")"
   ]
  },
  {
   "cell_type": "code",
   "execution_count": null,
   "metadata": {},
   "outputs": [],
   "source": [
    "subscriptions_rds"
   ]
  },
  {
   "cell_type": "markdown",
   "metadata": {},
   "source": [
    "# Subscription"
   ]
  },
  {
   "cell_type": "code",
   "execution_count": null,
   "metadata": {},
   "outputs": [],
   "source": [
    "if not subscriptions_dtypes_modified:\n",
    "\n",
    "    subscriptions_rds.dropna(how='all', inplace=True)\n",
    "\n",
    "    subscriptions_rds = subscriptions_rds.loc[(subscriptions_rds['revenue'].astype(str).str.isnumeric()) & (subscriptions_rds['service_price'].astype(str).str.isnumeric())]\n",
    "\n",
    "    subscriptions_rds['country'] = subscriptions_rds['country'].str.upper()\n",
    "    subscriptions_rds['status'] = subscriptions_rds['status'].astype(int)\n",
    "    subscriptions_rds['revenue'] = subscriptions_rds['revenue'].astype(float)\n",
    "    subscriptions_rds['service_price'] = subscriptions_rds['service_price'].astype(float).astype(int)\n",
    "    subscriptions_rds['currency'] = subscriptions_rds['currency'].fillna('XOF').str.upper()\n",
    "    subscriptions_rds['attempt_charging'] = subscriptions_rds['attempt_charging'].astype(int)\n",
    "    subscriptions_rds['success_billing'] = subscriptions_rds['success_billing'].astype(int)\n",
    "\n",
    "\n",
    "    column_to_datetime = ['created_at', 'subs_date', 'renewal_date', 'freemium_end_date', 'unsubs_date']\n",
    "\n",
    "    for column in column_to_datetime:\n",
    "        subscriptions_rds[column] = pd.to_datetime(subscriptions_rds[column], errors='coerce')\n",
    "\n",
    "    subscriptions_dtypes_modified = True\n",
    "\n",
    "subscriptions_rds"
   ]
  },
  {
   "cell_type": "code",
   "execution_count": null,
   "metadata": {},
   "outputs": [],
   "source": [
    "def ToIDRMultiplier(str):\n",
    "    if str == 'BATH': return 440\n",
    "    if str == 'RIAL' : return 3900\n",
    "    if str == 'XOF' : return 23\n",
    "    else : return 0.8\n",
    "    "
   ]
  },
  {
   "cell_type": "markdown",
   "metadata": {},
   "source": [
    "# Data processing"
   ]
  },
  {
   "cell_type": "code",
   "execution_count": null,
   "metadata": {},
   "outputs": [],
   "source": [
    "subscriptions_mds = subscriptions_rds.drop(columns = \n",
    "    ['id',\n",
    "     'created_at',\n",
    "     'trxid', \n",
    "     'adnet',\n",
    "     'browser',\n",
    "     'handset',\n",
    "     'pixel',\n",
    "     'publisher',\n",
    "     'service',\n",
    "     'profile_status',\n",
    "     'unsubs_from',\n",
    "     'pixel',\n",
    "     'browser',\n",
    "     'status'])\n",
    "\n",
    "drop_row = ((subscriptions_mds['cycle'] == '1') |\n",
    "            (subscriptions_mds['subs_date'] > subscriptions_mds['unsubs_date']) |\n",
    "            (subscriptions_mds['attempt_charging'] < subscriptions_mds['success_billing']))\n",
    "\n",
    "subscriptions_mds.drop(drop_row[drop_row].index, inplace=True)\n",
    "\n",
    "subscriptions_mds['subs_date_month'] = subscriptions_mds['subs_date'].dt.month\n",
    "\n",
    "subscriptions_mds['subs_date_hour'] = subscriptions_mds['subs_date'].dt.hour\n",
    "\n",
    "subscriptions_mds['revenue_converted'] = subscriptions_mds['currency'].apply(ToIDRMultiplier) * subscriptions_mds['revenue']\n",
    "subscriptions_mds['service_price_converted'] = subscriptions_mds['currency'].apply(ToIDRMultiplier) * subscriptions_mds['service_price']\n",
    "\n",
    "subscriptions_mds['success_billing_rate'] = (subscriptions_mds['success_billing'] / subscriptions_mds['attempt_charging']).fillna(0)\n",
    "\n",
    "subscriptions_mds['years_subscribed'] = (subscriptions_mds['unsubs_date'].fillna(pd.Timestamp(year=2023, month=10, day=1)) - subscriptions_mds['subs_date']) / pd.Timedelta(days=365)\n",
    "\n",
    "status_index = subscriptions_mds['unsubs_date'].notna().astype(str).replace('False', None).replace('True', '-1')\n",
    "status_index[status_index.isna()] = subscriptions_mds.loc[status_index.isna()]['renewal_date'].notna().astype(str).replace('False', 0).replace('True', '1')\n",
    "subscriptions_mds['status'] = status_index.astype(int)\n",
    "\n",
    "encoder = LabelEncoder()\n",
    "\n",
    "subscriptions_mds['source_encoded'] = encoder.fit_transform(subscriptions_mds['source'])\n",
    "subscriptions_mds['country_encoded'] = encoder.fit_transform(subscriptions_mds['country'])\n",
    "subscriptions_mds['operator_encoded'] = encoder.fit_transform(subscriptions_mds['operator'])\n",
    "subscriptions_mds['cycle_encoded'] = encoder.fit_transform(subscriptions_mds['cycle'])\n",
    "\n",
    "bins = [0, 0.01, 1]\n",
    "labels = ['bad', 'good']\n",
    "subscriptions_mds['success_billing_rate_binned'] = pd.cut(subscriptions_mds['success_billing_rate'], bins=bins, labels=labels, include_lowest=True)\n",
    "\n",
    "subscriptions_mds"
   ]
  },
  {
   "cell_type": "code",
   "execution_count": null,
   "metadata": {},
   "outputs": [],
   "source": [
    "subscriptions_mds['success_billing_rate_binned'].value_counts()"
   ]
  },
  {
   "cell_type": "markdown",
   "metadata": {},
   "source": [
    "# Learning Model"
   ]
  },
  {
   "cell_type": "markdown",
   "metadata": {},
   "source": [
    "## Random Forest Regressor"
   ]
  },
  {
   "cell_type": "code",
   "execution_count": null,
   "metadata": {},
   "outputs": [],
   "source": [
    "columns_to_encode = ['country', 'operator', 'source', 'cycle']\n",
    "\n",
    "data_sample = pd.concat([\n",
    "    subscriptions_mds[(subscriptions_mds['subs_date'] < pd.Timestamp(year=2022, month=10, day=1)) &\n",
    "                      subscriptions_mds['success_billing_rate'].notna() &\n",
    "                      (subscriptions_mds['success_billing_rate'] > 0.25)],\n",
    "    subscriptions_mds[subscriptions_mds['success_billing'] == 0].sample(1200)])\n",
    "\n",
    "encoding_df = pd.DataFrame(index=data_sample.index)\n",
    "for column in columns_to_encode:\n",
    "    encoding_df = pd.concat([encoding_df,\n",
    "                             pd.get_dummies(data_sample[column].astype(pd.CategoricalDtype(categories=subscriptions_mds[column].unique())), \n",
    "                                            dummy_na=True)],\n",
    "                            axis=1)\n",
    "\n",
    "X = data_sample[['attempt_charging', 'subs_date_month', 'subs_date_hour']]\n",
    "\n",
    "X = pd.concat([encoding_df, X], axis=1)\n",
    "X.columns = X.columns.astype(str)\n",
    "\n",
    "y = data_sample['success_billing_rate']\n",
    "\n",
    "X_train, X_test, y_train, y_test = train_test_split(X, y, test_size=0.3)\n",
    "\n",
    "reg = RandomForestRegressor(max_depth=10)\n",
    "reg.fit(X_train, y_train)\n",
    "\n",
    "offset = 100\n",
    "\n",
    "mean_sqr_err = mean_squared_error(reg.predict(X_test)*100, y_test*100)\n",
    "print(f'Mean squared error: {mean_sqr_err}')"
   ]
  },
  {
   "cell_type": "markdown",
   "metadata": {},
   "source": [
    "## Random Forest Classification"
   ]
  },
  {
   "cell_type": "code",
   "execution_count": null,
   "metadata": {},
   "outputs": [],
   "source": [
    "columns_to_encode = ['country', 'operator', 'source', 'cycle']\n",
    "\n",
    "data_sample = pd.concat([\n",
    "    subscriptions_mds[(subscriptions_mds['subs_date'] < pd.Timestamp(year=2022, month=10, day=1)) &\n",
    "                      subscriptions_mds['success_billing_rate'].notna() &\n",
    "                      (subscriptions_mds['success_billing_rate'] > 0.25)],\n",
    "    subscriptions_mds[subscriptions_mds['success_billing'] == 0].sample(1200)])\n",
    "\n",
    "encoding_df = pd.DataFrame(index=data_sample.index)\n",
    "for column in columns_to_encode:\n",
    "    encoding_df = pd.concat([encoding_df,\n",
    "                             pd.get_dummies(data_sample[column].astype(pd.CategoricalDtype(categories=subscriptions_mds[column].unique())), \n",
    "                                            dummy_na=True)],\n",
    "                            axis=1)\n",
    "\n",
    "\n",
    "\n",
    "X = data_sample[['attempt_charging', 'subs_date_month', 'subs_date_hour']]\n",
    "\n",
    "X = pd.concat([encoding_df, X], axis=1)\n",
    "X.columns = X.columns.astype(str)\n",
    "\n",
    "y = data_sample['success_billing_rate_binned']\n",
    "\n",
    "X_train, X_test, y_train, y_test = train_test_split(X, y, test_size=0.3)\n",
    "\n",
    "clf = RandomForestClassifier(max_depth=5)\n",
    "clf.fit(X_train, y_train)\n",
    "\n",
    "acc_score = accuracy_score(clf.predict(X_test), y_test)\n",
    "print(f'Accuracy_score: {acc_score}')"
   ]
  },
  {
   "cell_type": "markdown",
   "metadata": {},
   "source": [
    "## Model Validation"
   ]
  },
  {
   "cell_type": "code",
   "execution_count": null,
   "metadata": {},
   "outputs": [],
   "source": [
    "columns_to_encode = ['country', 'operator', 'source', 'cycle']\n",
    "\n",
    "data_sample = subscriptions_mds[subscriptions_mds['success_billing_rate_binned'] == 'good']\n",
    "encoding_df = pd.DataFrame(index=data_sample.index)\n",
    "for column in columns_to_encode:\n",
    "    encoding_df = pd.concat([encoding_df,\n",
    "                             pd.get_dummies(data_sample[column].astype(pd.CategoricalDtype(categories=subscriptions_mds[column].unique())), \n",
    "                                            dummy_na=True)],\n",
    "                            axis=1)\n",
    "\n",
    "X = data_sample[['attempt_charging', 'subs_date_month', 'subs_date_hour']]\n",
    "\n",
    "X = pd.concat([encoding_df, X], axis=1)\n",
    "X.columns = X.columns.astype(str)\n",
    "\n",
    "y = data_sample['success_billing_rate_binned']\n",
    "\n",
    "pred_y = clf.predict(X)\n",
    "\n",
    "acc_score = accuracy_score(pred_y, y)\n",
    "print(f'Accuracy_score: {acc_score}')\n",
    "\n",
    "df = pd.concat([pd.Series(pred_y, index=y.index), y], axis=1)"
   ]
  },
  {
   "cell_type": "markdown",
   "metadata": {},
   "source": [
    "# Visualization"
   ]
  },
  {
   "cell_type": "code",
   "execution_count": null,
   "metadata": {},
   "outputs": [],
   "source": [
    "year = 2020\n",
    "month = 5\n",
    "subscriptions_mds[(subscriptions_mds['subs_date'] >= pd.Timestamp(f'{year}-{month+1}')) &\n",
    "                        (subscriptions_mds['subs_date'] < pd.Timestamp((f'{year + (1 if month + 1 == 12 else 0)}-{(month+1)%12 + 1}'))) & \n",
    "                        ((subscriptions_mds['unsubs_date'].isnull()) | (subscriptions_mds['unsubs_date'] >= pd.Timestamp(f'{year + (1 if month + 1 == 12 else 0)}-{(month+1)%12 + 1}')))]"
   ]
  },
  {
   "cell_type": "code",
   "execution_count": null,
   "metadata": {},
   "outputs": [],
   "source": [
    "active_user_count_ds = []\n",
    "for year in range(2020, 2024):\n",
    "    for month in range(12):\n",
    "        user_count = subscriptions_mds[(subscriptions_mds['subs_date'] >= pd.Timestamp(year=year, month=month+1, day=1)) &\n",
    "                        (subscriptions_mds['subs_date'] < pd.Timestamp(year=year+(1 if month + 1 == 12 else 0), month=(month+1)%12 + 1, day=1)) & \n",
    "                        ((subscriptions_mds['unsubs_date'].isnull()) | (subscriptions_mds['unsubs_date'] >= pd.Timestamp(year=year + (1 if month + 1 == 12 else 0), month=(month+1)%12 + 1, day=1)))]['msisdn'].unique().size\n",
    "        active_user_count_ds.append([f'{year}-{month+1:02d}', user_count])\n",
    "\n",
    "active_user_count_ds = active_user_count_ds[2:45]\n",
    "        \n",
    "active_user_count_ds = pd.DataFrame(data=active_user_count_ds, columns=['time', 'active_user_count'])\n",
    "active_user_count_ds"
   ]
  },
  {
   "cell_type": "code",
   "execution_count": null,
   "metadata": {},
   "outputs": [],
   "source": [
    "year=2021\n",
    "month=10\n",
    "subscriptions_mds[(subscriptions_mds['subs_date'] >= pd.Timestamp(year=year, month=month+1, day=1)) &\n",
    "                        (subscriptions_mds['subs_date'] < pd.Timestamp(year=year+(1 if month + 1 == 12 else 0), month=(month+1)%12 + 1, day=1)) & \n",
    "                        ((subscriptions_mds['unsubs_date'].isnull()) | (subscriptions_mds['unsubs_date'] >= pd.Timestamp(year=year + (1 if month + 1 == 12 else 0), month=(month+1)%12 + 1, day=1)))]"
   ]
  },
  {
   "cell_type": "code",
   "execution_count": null,
   "metadata": {},
   "outputs": [],
   "source": [
    "sns.barplot(x = 'active_user_count', y = 'time', data=active_user_count_ds, orient='h', estimator=\"sum\", errorbar=None)"
   ]
  },
  {
   "cell_type": "code",
   "execution_count": null,
   "metadata": {},
   "outputs": [],
   "source": [
    "subscriptions_mds['subs_year'] = subscriptions_mds['subs_date'].dt.year\n",
    "sns.barplot(x='subs_year',y='revenue',data=subscriptions_mds[['subs_year', 'revenue']].groupby('subs_year').mean().reset_index())\n",
    "plt.show()"
   ]
  },
  {
   "cell_type": "code",
   "execution_count": null,
   "metadata": {},
   "outputs": [],
   "source": [
    "subscriptions_mds['subs_month'] = subscriptions_mds['subs_date'].dt.month\n",
    "sns.barplot(x='subs_month',y='revenue',data=subscriptions_mds[['subs_month', 'revenue']].groupby('subs_month').mean().reset_index())\n",
    "plt.show()"
   ]
  },
  {
   "cell_type": "code",
   "execution_count": null,
   "metadata": {},
   "outputs": [],
   "source": [
    "subscriptions_mds"
   ]
  },
  {
   "cell_type": "code",
   "execution_count": null,
   "metadata": {},
   "outputs": [],
   "source": [
    "subscriptions_mds['subs_date_year'] = subscriptions_mds['subs_date'].dt.year\n",
    "subscriptions_mds['subs_date_month'] = subscriptions_mds['subs_date'].dt.month\n",
    "subscriptions_mds['subs_date_day'] = subscriptions_mds['subs_date'].dt.day"
   ]
  },
  {
   "cell_type": "code",
   "execution_count": null,
   "metadata": {},
   "outputs": [],
   "source": [
    "sns.boxplot(x='subs_date_month',y='success_billing',data=subscriptions_mds[['subs_date_month', 'success_billing']])\n",
    "plt.title('Succesful billing per month')\n",
    "plt.xlabel('Month')\n",
    "plt.ylabel('Succesful Billing')\n",
    "plt.show()"
   ]
  },
  {
   "cell_type": "code",
   "execution_count": null,
   "metadata": {},
   "outputs": [],
   "source": [
    "# sns.countplot(x='years_subscribed',data=subscriptions_mds.drop(subscriptions_mds[subscriptions_mds['years_subscribed'] == -1].index))\n",
    "# plt.title('Duration of subscription')\n",
    "# plt.xlabel('Years subscribed')\n",
    "\n",
    "# plt.show()"
   ]
  },
  {
   "cell_type": "code",
   "execution_count": null,
   "metadata": {},
   "outputs": [],
   "source": [
    "\n",
    "sns.barplot(x='country',y='revenue',data=subscriptions_mds)\n",
    "\n",
    "plt.title('Revenue generated from each countries')\n",
    "\n",
    "plt.show()"
   ]
  },
  {
   "cell_type": "markdown",
   "metadata": {},
   "source": [
    "# Transaction"
   ]
  },
  {
   "cell_type": "code",
   "execution_count": null,
   "metadata": {},
   "outputs": [],
   "source": [
    "transactions_rds.columns"
   ]
  },
  {
   "cell_type": "code",
   "execution_count": null,
   "metadata": {},
   "outputs": [],
   "source": [
    "transactions_rds[transactions_rds['sms_content'].notnull()][['sms_content']]"
   ]
  },
  {
   "cell_type": "code",
   "execution_count": null,
   "metadata": {},
   "outputs": [],
   "source": [
    "\n",
    "transactions_rds[transactions_rds['telco_api_url'].notnull()][['telco_api_url']]"
   ]
  },
  {
   "cell_type": "code",
   "execution_count": null,
   "metadata": {},
   "outputs": [],
   "source": [
    "transactions_mds = transactions_rds.drop(columns = ['currency', 'browser', 'handset','sms_content'])"
   ]
  },
  {
   "cell_type": "code",
   "execution_count": null,
   "metadata": {},
   "outputs": [],
   "source": [
    "transactions_mds['event_date'] = pd.to_datetime(transactions_mds ['event_date'], errors='coerce')\n",
    "transactions_mds['charge_date'] = pd.to_datetime(transactions_mds['charge_date'], errors='coerce')\n",
    "transactions_mds['created_at'] = pd.to_datetime(transactions_mds['created_at'], errors='coerce')\n",
    "transactions_mds['id'] = transactions_mds['id'].astype(int)\n",
    "transactions_mds['status_sms'] = transactions_mds['status_sms'] == 1\n",
    "\n",
    "transactions_mds['revenue'] = pd.to_numeric(transactions_mds['revenue'], errors='coerce', downcast='integer')\n",
    "transactions_mds.dropna(subset=['revenue'], inplace=True)\n",
    "transactions_mds = transactions_mds.astype({'revenue' : 'int32'})"
   ]
  },
  {
   "cell_type": "code",
   "execution_count": null,
   "metadata": {},
   "outputs": [],
   "source": [
    "transactions_mds.dtypes"
   ]
  },
  {
   "cell_type": "code",
   "execution_count": null,
   "metadata": {},
   "outputs": [],
   "source": [
    "transactions_rds.info()\n",
    "transactions_rds[transactions_rds['sms_content'].notnull()]"
   ]
  },
  {
   "cell_type": "code",
   "execution_count": null,
   "metadata": {},
   "outputs": [],
   "source": [
    "print(transactions_rds.columns)"
   ]
  },
  {
   "cell_type": "code",
   "execution_count": null,
   "metadata": {},
   "outputs": [],
   "source": [
    "print(transactions_mds.columns)\n"
   ]
  },
  {
   "cell_type": "code",
   "execution_count": null,
   "metadata": {},
   "outputs": [],
   "source": [
    "transactions_mds['country'].unique()"
   ]
  },
  {
   "cell_type": "code",
   "execution_count": null,
   "metadata": {},
   "outputs": [],
   "source": [
    "transactions_mds['charge_month'] = transactions_mds['charge_date'].dt.month\n",
    "sns.lineplot(x='charge_month',y='revenue',data=transactions_mds[['charge_month', 'revenue']].groupby('charge_month').mean().reset_index())\n",
    "plt.show()"
   ]
  },
  {
   "cell_type": "code",
   "execution_count": null,
   "metadata": {},
   "outputs": [],
   "source": [
    "sns.countplot(x='country',data=transactions_mds)\n",
    "plt.title('Numbers of user for each country')\n",
    "plt.show()\n"
   ]
  },
  {
   "cell_type": "code",
   "execution_count": null,
   "metadata": {},
   "outputs": [],
   "source": [
    "sns.countplot(x='operator',data=transactions_mds)\n",
    "plt.title('Numbers of user for each operator')\n",
    "plt.show()"
   ]
  },
  {
   "cell_type": "code",
   "execution_count": null,
   "metadata": {},
   "outputs": [],
   "source": []
  },
  {
   "cell_type": "code",
   "execution_count": null,
   "metadata": {},
   "outputs": [],
   "source": [
    "sns.barplot(x='country',y='revenue',data=transactions_mds[['country', 'revenue']].groupby('country').mean().reset_index())\n",
    "plt.show()"
   ]
  },
  {
   "cell_type": "code",
   "execution_count": null,
   "metadata": {},
   "outputs": [],
   "source": [
    "\n",
    "transactions_mds.boxplot(by ='country', column =['revenue'], grid = False) "
   ]
  },
  {
   "cell_type": "code",
   "execution_count": null,
   "metadata": {},
   "outputs": [],
   "source": [
    "sns.barplot(x='operator',y='revenue',data=transactions_mds)\n",
    "plt.show()"
   ]
  }
 ],
 "metadata": {
  "kernelspec": {
   "display_name": "base",
   "language": "python",
   "name": "python3"
  },
  "language_info": {
   "codemirror_mode": {
    "name": "ipython",
    "version": 3
   },
   "file_extension": ".py",
   "mimetype": "text/x-python",
   "name": "python",
   "nbconvert_exporter": "python",
   "pygments_lexer": "ipython3",
   "version": "3.9.18"
  }
 },
 "nbformat": 4,
 "nbformat_minor": 2
}
